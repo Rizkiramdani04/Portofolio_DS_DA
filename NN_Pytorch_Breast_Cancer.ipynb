{
  "nbformat": 4,
  "nbformat_minor": 0,
  "metadata": {
    "colab": {
      "provenance": [],
      "authorship_tag": "ABX9TyNy/UV/z8PZNzKDapPjk8Kj",
      "include_colab_link": true
    },
    "kernelspec": {
      "name": "python3",
      "display_name": "Python 3"
    },
    "language_info": {
      "name": "python"
    }
  },
  "cells": [
    {
      "cell_type": "markdown",
      "metadata": {
        "id": "view-in-github",
        "colab_type": "text"
      },
      "source": [
        "<a href=\"https://colab.research.google.com/github/Rizkiramdani04/Portofolio_DS_DA/blob/main/NN_Pytorch_Breast_Cancer.ipynb\" target=\"_parent\"><img src=\"https://colab.research.google.com/assets/colab-badge.svg\" alt=\"Open In Colab\"/></a>"
      ]
    },
    {
      "cell_type": "code",
      "execution_count": null,
      "metadata": {
        "id": "e2mJsWRnsAUz"
      },
      "outputs": [],
      "source": [
        "import torch\n",
        "import torch.nn as nn\n",
        "import torch.optim as optim\n",
        "from sklearn.datasets import load_breast_cancer\n",
        "from sklearn.model_selection import train_test_split\n",
        "from sklearn.preprocessing import StandardScaler"
      ]
    },
    {
      "cell_type": "code",
      "source": [
        "device=torch.device('cuda' if torch.cuda.is_available() else 'cpu')\n",
        "print(f'Using Device: {device}')"
      ],
      "metadata": {
        "colab": {
          "base_uri": "https://localhost:8080/"
        },
        "id": "KU4Ag61OuuLV",
        "outputId": "44a2b025-21de-4fbf-91d2-5499347a8312"
      },
      "execution_count": null,
      "outputs": [
        {
          "output_type": "stream",
          "name": "stdout",
          "text": [
            "Using Device: cpu\n"
          ]
        }
      ]
    },
    {
      "cell_type": "code",
      "source": [
        "dataset=load_breast_cancer()\n",
        "X=dataset.data\n",
        "Y=dataset.target"
      ],
      "metadata": {
        "id": "qLeqN4n2vFzC"
      },
      "execution_count": null,
      "outputs": []
    },
    {
      "cell_type": "code",
      "source": [
        "X_train,X_test,Y_train,Y_test=train_test_split(X,Y,test_size=0.2,random_state=42)\n",
        "print(X.shape)\n",
        "print(X_train.shape)\n",
        "print(X_test.shape)"
      ],
      "metadata": {
        "colab": {
          "base_uri": "https://localhost:8080/"
        },
        "id": "vCM6ndZ0vSVM",
        "outputId": "a63cf0a7-7054-4836-aaa4-02f8738abacf"
      },
      "execution_count": null,
      "outputs": [
        {
          "output_type": "stream",
          "name": "stdout",
          "text": [
            "(569, 30)\n",
            "(455, 30)\n",
            "(114, 30)\n"
          ]
        }
      ]
    },
    {
      "cell_type": "code",
      "source": [
        "model=StandardScaler()\n",
        "X_train=model.fit_transform(X_train)\n",
        "X_test=model.transform(X_test)\n",
        "type(X_train)"
      ],
      "metadata": {
        "colab": {
          "base_uri": "https://localhost:8080/"
        },
        "id": "R2ivlfR5xKxr",
        "outputId": "1295a95f-59e0-4174-d1e1-01aabffe1ba0"
      },
      "execution_count": null,
      "outputs": [
        {
          "output_type": "execute_result",
          "data": {
            "text/plain": [
              "numpy.ndarray"
            ]
          },
          "metadata": {},
          "execution_count": 17
        }
      ]
    },
    {
      "cell_type": "code",
      "source": [
        "# convert data to PyTorch tensors and move it to GPU\n",
        "X_train = torch.tensor(X_train, dtype=torch.float32).to(device)\n",
        "Y_train = torch.tensor(Y_train, dtype=torch.float32).to(device)\n",
        "X_test = torch.tensor(X_test, dtype=torch.float32).to(device)\n",
        "Y_test = torch.tensor(Y_test, dtype=torch.float32).to(device)"
      ],
      "metadata": {
        "id": "3lYLrCHvxhpG"
      },
      "execution_count": null,
      "outputs": []
    },
    {
      "cell_type": "code",
      "source": [
        "class NeuralNet(nn.Module):\n",
        "  def __init__(self,input_size,hidden_size,output_size):\n",
        "    super(NeuralNet, self).__init__()\n",
        "    self.fc1=nn.Linear(input_size,hidden_size)\n",
        "    self.relu=nn.ReLU()\n",
        "    self.fc2=nn.Linear(hidden_size,output_size)\n",
        "    self.sigmoid=nn.Sigmoid()\n",
        "  def forward(self,x):\n",
        "    out=self.fc1(x)\n",
        "    out=self.relu(out)\n",
        "    out=self.fc2(out)\n",
        "    out=self.sigmoid(out)\n",
        "    return out"
      ],
      "metadata": {
        "id": "krjRvlsWxnYu"
      },
      "execution_count": null,
      "outputs": []
    },
    {
      "cell_type": "code",
      "source": [
        "input_size=X_train.shape[1]\n",
        "hidden_size=64\n",
        "output_size=1\n",
        "learning_rate=0.001\n",
        "num_epochs=100"
      ],
      "metadata": {
        "id": "n3HsZlYvyY0g"
      },
      "execution_count": null,
      "outputs": []
    },
    {
      "cell_type": "code",
      "source": [
        "model=NeuralNet(input_size,hidden_size,output_size).to(device)"
      ],
      "metadata": {
        "id": "yWNi2qBrykU2"
      },
      "execution_count": null,
      "outputs": []
    },
    {
      "cell_type": "code",
      "source": [
        "criterion=nn.BCELoss()\n",
        "optimizer=optim.Adam(model.parameters(),lr=learning_rate)"
      ],
      "metadata": {
        "id": "Sh4elNFszWFw"
      },
      "execution_count": null,
      "outputs": []
    },
    {
      "cell_type": "code",
      "source": [
        "for epoch in range(num_epochs):\n",
        "  model.train()\n",
        "  optimizer.zero_grad()\n",
        "  outputs=model(X_train)\n",
        "  loss=criterion(outputs,Y_train.view(-1,1))\n",
        "  loss.backward()\n",
        "  optimizer.step()\n",
        "\n",
        "  with torch.no_grad():\n",
        "    predicted=outputs.round()\n",
        "    correct=(predicted==Y_train.view(-1,1)).float().sum()\n",
        "    accuracy=correct/Y_train.size(0)\n",
        "  if (epoch+1)%10==0:\n",
        "    print(f\"Epoch [{epoch+1}/{num_epochs}], Loss : {loss.item():.4f}, Accuracy: {accuracy.item() * 100:.2f}%\")"
      ],
      "metadata": {
        "colab": {
          "base_uri": "https://localhost:8080/"
        },
        "id": "E01V8ebZzpSo",
        "outputId": "e14383ac-a9b7-4ab4-abe1-d05ac8001eb7"
      },
      "execution_count": null,
      "outputs": [
        {
          "output_type": "stream",
          "name": "stdout",
          "text": [
            "Epoch [10/100], Loss : 0.5655, Accuracy: 94.29%\n",
            "Epoch [20/100], Loss : 0.4525, Accuracy: 95.60%\n",
            "Epoch [30/100], Loss : 0.3626, Accuracy: 95.60%\n",
            "Epoch [40/100], Loss : 0.2905, Accuracy: 95.82%\n",
            "Epoch [50/100], Loss : 0.2355, Accuracy: 96.04%\n",
            "Epoch [60/100], Loss : 0.1953, Accuracy: 96.48%\n",
            "Epoch [70/100], Loss : 0.1666, Accuracy: 96.48%\n",
            "Epoch [80/100], Loss : 0.1456, Accuracy: 97.36%\n",
            "Epoch [90/100], Loss : 0.1299, Accuracy: 97.36%\n",
            "Epoch [100/100], Loss : 0.1178, Accuracy: 98.02%\n"
          ]
        }
      ]
    },
    {
      "cell_type": "code",
      "source": [
        "model.eval()\n",
        "with torch.no_grad():\n",
        "  outputs=model(X_train)\n",
        "  predicted=outputs.round()\n",
        "  correct=(predicted==Y_train.view(-1,1)).float().sum()\n",
        "  accuracy=correct/Y_train.size(0)\n",
        "  print(f'Accuracy Traning Data: {accuracy.item()*100:.2f}%')"
      ],
      "metadata": {
        "colab": {
          "base_uri": "https://localhost:8080/"
        },
        "id": "Cg1TTugm0fIL",
        "outputId": "3191104e-d436-4396-8401-fb22d74966ba"
      },
      "execution_count": null,
      "outputs": [
        {
          "output_type": "stream",
          "name": "stdout",
          "text": [
            "Accuracy Traning Data: 98.02%\n"
          ]
        }
      ]
    },
    {
      "cell_type": "code",
      "source": [
        "model.eval()\n",
        "with torch.no_grad():\n",
        "  outputs=model(X_test)\n",
        "  predicted=outputs.round()\n",
        "  correct=(predicted==Y_test.view(-1,1)).float().sum()\n",
        "  accuracy=correct/Y_test.size(0)\n",
        "  print(f'Accuracy Data Test: {accuracy.item()*100:.2f}%')"
      ],
      "metadata": {
        "colab": {
          "base_uri": "https://localhost:8080/"
        },
        "id": "Yi-MLHMP1BjU",
        "outputId": "b5983194-4835-4a7c-ccee-0dc9d65ba3aa"
      },
      "execution_count": null,
      "outputs": [
        {
          "output_type": "stream",
          "name": "stdout",
          "text": [
            "Accuracy Data Test: 97.37%\n"
          ]
        }
      ]
    }
  ]
}