{
  "nbformat": 4,
  "nbformat_minor": 0,
  "metadata": {
    "colab": {
      "provenance": [],
      "mount_file_id": "1S_xt8lJg3GvZ0xTuWFscr0MeN0zTIbEe",
      "authorship_tag": "ABX9TyOMzzTzhTsDNzq3w2ezj8cn",
      "include_colab_link": true
    },
    "kernelspec": {
      "name": "python3",
      "display_name": "Python 3"
    },
    "language_info": {
      "name": "python"
    }
  },
  "cells": [
    {
      "cell_type": "markdown",
      "metadata": {
        "id": "view-in-github",
        "colab_type": "text"
      },
      "source": [
        "<a href=\"https://colab.research.google.com/github/Rizkiramdani04/Portofolio_DS_DA/blob/main/DL_Face_Fake.ipynb\" target=\"_parent\"><img src=\"https://colab.research.google.com/assets/colab-badge.svg\" alt=\"Open In Colab\"/></a>"
      ]
    },
    {
      "cell_type": "code",
      "execution_count": null,
      "metadata": {
        "id": "bG3ySgHRNkBC"
      },
      "outputs": [],
      "source": [
        "import numpy as np\n",
        "import matplotlib.pyplot as plt\n",
        "import matplotlib.image as mpimp\n",
        "import cv2\n",
        "from google.colab.patches import cv2_imshow\n",
        "from PIL import Image\n",
        "from sklearn.model_selection import train_test_split"
      ]
    },
    {
      "cell_type": "code",
      "source": [
        "with_mash_files=os.listdir()\n",
        "print(with_mash_files[0:5])\n",
        "print(with_mash_files[-5:])"
      ],
      "metadata": {
        "id": "IZhqgIFEN7T8"
      },
      "execution_count": null,
      "outputs": []
    },
    {
      "cell_type": "code",
      "source": [
        "without_mash_files=os.listdir()\n",
        "print(without_mash_files[0:5])\n",
        "print(without_mash_files[-5:])"
      ],
      "metadata": {
        "id": "r2lCy3P0OKyL"
      },
      "execution_count": null,
      "outputs": []
    },
    {
      "cell_type": "code",
      "source": [],
      "metadata": {
        "id": "51L5yr_-OymH"
      },
      "execution_count": null,
      "outputs": []
    },
    {
      "cell_type": "code",
      "source": [
        "print('Number Of With Mask Images', len(with_mash_files))\n",
        "print('Number Of Without Mask Images', len(without_mash_files))"
      ],
      "metadata": {
        "id": "Efkd_dgTOVu4"
      },
      "execution_count": null,
      "outputs": []
    },
    {
      "cell_type": "code",
      "source": [
        "with_mash_files=[1]*3725\n",
        "without_mash_files=[0]*3828\n",
        "print(with_mash_files[0:5])\n",
        "print(without_mash_files[0:5])"
      ],
      "metadata": {
        "id": "m3iLesNqOeks"
      },
      "execution_count": null,
      "outputs": []
    },
    {
      "cell_type": "code",
      "source": [
        "print(len(with_mash_files))\n",
        "print(len[without_mash_files])"
      ],
      "metadata": {
        "id": "1XJnKqztOtRU"
      },
      "execution_count": null,
      "outputs": []
    },
    {
      "cell_type": "code",
      "source": [
        "labels=with_mash_files +without_mash_files\n",
        "print(len(labels))\n",
        "print(labels[0:5])\n",
        "print(labels[-5:])"
      ],
      "metadata": {
        "id": "2VI357iSOz4V"
      },
      "execution_count": null,
      "outputs": []
    },
    {
      "cell_type": "code",
      "source": [
        "# displaying with mask image\n",
        "img = mpimg.imread('/content/data/with_mask/with_mask_1545.jpg')\n",
        "imgplot = plt.imshow(img)\n",
        "plt.show()"
      ],
      "metadata": {
        "id": "i8bDcyvzO_mF"
      },
      "execution_count": null,
      "outputs": []
    },
    {
      "cell_type": "code",
      "source": [
        "# displaying without mask image\n",
        "img = mpimg.imread('/content/data/without_mask/without_mask_2925.jpg')\n",
        "imgplot = plt.imshow(img)\n",
        "plt.show()"
      ],
      "metadata": {
        "id": "Me0-zPmpPAFy"
      },
      "execution_count": null,
      "outputs": []
    },
    {
      "cell_type": "code",
      "source": [
        "with_mash_files=\n",
        "data=[]\n",
        "for img_file in with_mash_files:\n",
        "  image=Image.open(with_mash_files+img_file)\n",
        "  image=image.resize((128,128))\n",
        "  image=image.convert('RGB')\n",
        "  image=np.array(image)\n",
        "  data.append(image)\n",
        "\n",
        "without_mash_files=\n",
        "data=[]\n",
        "for img_file in without_mash_files:\n",
        "  image=Image.open(without_mash_files+img_file)\n",
        "  image=image.resize((128,128))\n",
        "  image=image.convert('RGB')\n",
        "  image=np.array(image)\n",
        "  data.append(image)"
      ],
      "metadata": {
        "id": "XvMgKFwOPJQr"
      },
      "execution_count": null,
      "outputs": []
    },
    {
      "cell_type": "code",
      "source": [
        "type(data)\n",
        "len(data)"
      ],
      "metadata": {
        "id": "9V_RezDIPvD5"
      },
      "execution_count": null,
      "outputs": []
    },
    {
      "cell_type": "code",
      "source": [
        "data[0]"
      ],
      "metadata": {
        "id": "qP2OEL8WPxQ0"
      },
      "execution_count": null,
      "outputs": []
    },
    {
      "cell_type": "code",
      "source": [],
      "metadata": {
        "id": "1IxULH_5PyGx"
      },
      "execution_count": null,
      "outputs": []
    },
    {
      "cell_type": "code",
      "source": [
        "type(data[0])\n",
        "data[0].shape"
      ],
      "metadata": {
        "id": "ENBwBIFIP0O1"
      },
      "execution_count": null,
      "outputs": []
    },
    {
      "cell_type": "code",
      "source": [
        "X=np.array(data)\n",
        "Y=np.array(labels)\n",
        "type(X)\n",
        "type(Y)\n",
        "print(X.shape)\n",
        "print(Y.shape)"
      ],
      "metadata": {
        "id": "9HB-tkhRP3aD"
      },
      "execution_count": null,
      "outputs": []
    },
    {
      "cell_type": "code",
      "source": [
        "X_train,X_test,Y_train,Y_test=train_test_split(X,Y,test_size=0.2,random_state=42)\n",
        "print(X.shape,X_train.shape,X_test.shape)"
      ],
      "metadata": {
        "id": "uKdDmGxWQCrA"
      },
      "execution_count": null,
      "outputs": []
    },
    {
      "cell_type": "code",
      "source": [
        "X+"
      ],
      "metadata": {
        "id": "ovY6ZpfcQPPx"
      },
      "execution_count": null,
      "outputs": []
    },
    {
      "cell_type": "code",
      "source": [],
      "metadata": {
        "id": "iT1BnzmhP8tl"
      },
      "execution_count": null,
      "outputs": []
    }
  ]
}